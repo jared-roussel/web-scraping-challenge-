{
 "cells": [
  {
   "cell_type": "code",
   "execution_count": 22,
   "id": "1a8a0b37",
   "metadata": {},
   "outputs": [],
   "source": [
    "#Import dependencies\n",
    "from bs4 import BeautifulSoup as bs\n",
    "import requests\n",
    "import pymongo\n",
    "from webdriver_manager.chrome import ChromeDriverManager\n",
    "import pandas as pd\n",
    "import requests\n",
    "import json\n",
    "import os\n",
    "import html5lib as html\n",
    "from splinter import Browser"
   ]
  },
  {
   "cell_type": "code",
   "execution_count": 23,
   "id": "e43468b8",
   "metadata": {},
   "outputs": [
    {
     "name": "stderr",
     "output_type": "stream",
     "text": [
      "\n",
      "\n",
      "====== WebDriver manager ======\n",
      "Current google-chrome version is 95.0.4638\n",
      "Get LATEST driver version for 95.0.4638\n",
      "Driver [C:\\Users\\12254\\.wdm\\drivers\\chromedriver\\win32\\95.0.4638.54\\chromedriver.exe] found in cache\n"
     ]
    }
   ],
   "source": [
    "executable_path = {'executable_path': ChromeDriverManager().install()}\n",
    "browser = Browser('chrome', **executable_path, headless=False)"
   ]
  },
  {
   "cell_type": "code",
   "execution_count": 24,
   "id": "a6cc7b19",
   "metadata": {},
   "outputs": [],
   "source": [
    "#Initiate mongodb instance\n",
    "conn = 'mongodb://localhost:27017'\n",
    "client = pymongo.MongoClient(conn)"
   ]
  },
  {
   "cell_type": "code",
   "execution_count": 25,
   "metadata": {},
   "outputs": [],
   "source": [
    "url = 'https://redplanetscience.com/'\n",
    "browser.visit(url)\n",
    "html = browser.html\n",
    "soup = bs(html, 'lxml')\n"
   ]
  },
  {
   "cell_type": "code",
   "execution_count": 29,
   "id": "cb630191",
   "metadata": {},
   "outputs": [],
   "source": [
    "#Display results to check\n",
    "#soup"
   ]
  },
  {
   "cell_type": "code",
   "execution_count": 40,
   "id": "dc22a673",
   "metadata": {},
   "outputs": [],
   "source": [
    "#Find the div.content_title \n",
    "results = soup.find_all('section', class_='image_and_description_container')"
   ]
  },
  {
   "cell_type": "code",
   "execution_count": 42,
   "id": "3e4525d4",
   "metadata": {},
   "outputs": [],
   "source": [
    "#Print results to verify\n",
    "#results"
   ]
  },
  {
   "cell_type": "code",
   "execution_count": 54,
   "metadata": {},
   "outputs": [
    {
     "name": "stdout",
     "output_type": "stream",
     "text": [
      "November 2, 2021\n",
      "November 1, 2021\n",
      "October 24, 2021\n",
      "October 24, 2021\n",
      "October 20, 2021\n",
      "October 18, 2021\n",
      "October 9, 2021\n",
      "October 8, 2021\n",
      "October 5, 2021\n",
      "October 5, 2021\n",
      "October 5, 2021\n",
      "October 4, 2021\n",
      "October 4, 2021\n",
      "October 4, 2021\n",
      "October 3, 2021\n"
     ]
    }
   ],
   "source": [
    "for row in soup.find_all('div',attrs={\"class\" : \"list_date\"}):\n",
    "    print (row.text)"
   ]
  },
  {
   "cell_type": "code",
   "execution_count": null,
   "id": "6609e59e",
   "metadata": {},
   "outputs": [],
   "source": []
  }
 ],
 "metadata": {
  "interpreter": {
   "hash": "3b72f3de93deed7a8b5a21e53995b8ecc1da046e40fa35b903f207e908c15ba5"
  },
  "kernelspec": {
   "display_name": "Python 3.6.10 64-bit ('PythonData': conda)",
   "name": "python3"
  },
  "language_info": {
   "codemirror_mode": {
    "name": "ipython",
    "version": 3
   },
   "file_extension": ".py",
   "mimetype": "text/x-python",
   "name": "python",
   "nbconvert_exporter": "python",
   "pygments_lexer": "ipython3",
   "version": "3.6.10"
  }
 },
 "nbformat": 4,
 "nbformat_minor": 5
}
